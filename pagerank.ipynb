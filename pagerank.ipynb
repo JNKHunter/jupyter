{
 "cells": [
  {
   "cell_type": "code",
   "execution_count": 187,
   "metadata": {},
   "outputs": [],
   "source": [
    "import numpy as np\n",
    "import numpy.linalg as la\n",
    "import collections"
   ]
  },
  {
   "cell_type": "code",
   "execution_count": 188,
   "metadata": {},
   "outputs": [],
   "source": [
    "links = [(0,1), (0,4), (1,2), (1,4), (2,0), (2,4), (3,4), (4,5), (4,6), (5,2), (5,6), (6,4), (6,5), (6,7)]\n",
    "mixture_param = 0.1\n",
    "tolerance = .001"
   ]
  },
  {
   "cell_type": "code",
   "execution_count": 189,
   "metadata": {},
   "outputs": [],
   "source": [
    "linksDict = collections.defaultdict(list)"
   ]
  },
  {
   "cell_type": "code",
   "execution_count": 190,
   "metadata": {},
   "outputs": [],
   "source": [
    "for (x,y) in links :\n",
    "    linksDict[x].append(y)\n",
    "    linksDict[y]"
   ]
  },
  {
   "cell_type": "code",
   "execution_count": 191,
   "metadata": {},
   "outputs": [],
   "source": [
    "numNodes = len(linksDict)"
   ]
  },
  {
   "cell_type": "code",
   "execution_count": 192,
   "metadata": {},
   "outputs": [],
   "source": [
    "matrix = np.zeros((numNodes, numNodes))"
   ]
  },
  {
   "cell_type": "code",
   "execution_count": 193,
   "metadata": {},
   "outputs": [],
   "source": [
    "for k,v in linksDict.items() :\n",
    "    if len(v) > 0 :        \n",
    "        probability = 1/len(v)\n",
    "        for link in v:\n",
    "            matrix[link][k] = probability\n",
    "    else :\n",
    "        probability = 1/numNodes\n",
    "        for i in range(0,numNodes):\n",
    "            matrix[i][k] = probability"
   ]
  },
  {
   "cell_type": "code",
   "execution_count": 194,
   "metadata": {},
   "outputs": [],
   "source": [
    "np.set_printoptions(precision=4)"
   ]
  },
  {
   "cell_type": "code",
   "execution_count": 195,
   "metadata": {},
   "outputs": [],
   "source": [
    "randMatrix = np.ones((numNodes, numNodes))"
   ]
  },
  {
   "cell_type": "code",
   "execution_count": 196,
   "metadata": {},
   "outputs": [],
   "source": [
    "finMatrix = ((1-mixture_param) * matrix) + ((mixture_param/numNodes) * randMatrix)"
   ]
  },
  {
   "cell_type": "code",
   "execution_count": 217,
   "metadata": {},
   "outputs": [],
   "source": [
    "vec = np.full((numNodes,1),1/numNodes)\n",
    "lastVec = vec\n",
    "vec = finMatrix.dot(vec)\n",
    "\n",
    "while la.norm(lastVec - vec) > .001 :\n",
    "    lastVec = vec\n",
    "    vec = finMatrix.dot(vec)"
   ]
  },
  {
   "cell_type": "code",
   "execution_count": 218,
   "metadata": {},
   "outputs": [
    {
     "name": "stdout",
     "output_type": "stream",
     "text": [
      "[[0.0815]\n",
      " [0.0588]\n",
      " [0.1321]\n",
      " [0.022 ]\n",
      " [0.2268]\n",
      " [0.1864]\n",
      " [0.2079]\n",
      " [0.0844]]\n"
     ]
    }
   ],
   "source": [
    "print(vec)"
   ]
  }
 ],
 "metadata": {
  "kernelspec": {
   "display_name": "Python 3",
   "language": "python",
   "name": "python3"
  },
  "language_info": {
   "codemirror_mode": {
    "name": "ipython",
    "version": 3
   },
   "file_extension": ".py",
   "mimetype": "text/x-python",
   "name": "python",
   "nbconvert_exporter": "python",
   "pygments_lexer": "ipython3",
   "version": "3.7.1"
  }
 },
 "nbformat": 4,
 "nbformat_minor": 2
}
